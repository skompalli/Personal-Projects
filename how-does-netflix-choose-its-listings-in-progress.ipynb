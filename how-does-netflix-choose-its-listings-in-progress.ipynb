{
 "cells": [
  {
   "cell_type": "code",
   "execution_count": 1,
   "id": "f8cd96d9",
   "metadata": {
    "_cell_guid": "b1076dfc-b9ad-4769-8c92-a6c4dae69d19",
    "_uuid": "8f2839f25d086af736a60e9eeb907d3b93b6e0e5",
    "execution": {
     "iopub.execute_input": "2022-08-23T02:34:51.511248Z",
     "iopub.status.busy": "2022-08-23T02:34:51.510854Z",
     "iopub.status.idle": "2022-08-23T02:34:52.505249Z",
     "shell.execute_reply": "2022-08-23T02:34:52.504234Z"
    },
    "papermill": {
     "duration": 1.003652,
     "end_time": "2022-08-23T02:34:52.507822",
     "exception": false,
     "start_time": "2022-08-23T02:34:51.504170",
     "status": "completed"
    },
    "tags": []
   },
   "outputs": [
    {
     "name": "stdout",
     "output_type": "stream",
     "text": [
      "/kaggle/input/netflix-shows/netflix_titles.csv\n"
     ]
    }
   ],
   "source": [
    "# This Python 3 environment comes with many helpful analytics libraries installed\n",
    "# It is defined by the kaggle/python Docker image: https://github.com/kaggle/docker-python\n",
    "# For example, here's several helpful packages to load\n",
    "\n",
    "import numpy as np # linear algebra\n",
    "import pandas as pd # data processing, CSV file I/O (e.g. pd.read_csv)\n",
    "import seaborn as sns\n",
    "import matplotlib.pyplot as plt\n",
    "\n",
    "# Input data files are available in the read-only \"../input/\" directory\n",
    "# For example, running this (by clicking run or pressing Shift+Enter) will list all files under the input directory\n",
    "\n",
    "import os\n",
    "for dirname, _, filenames in os.walk('/kaggle/input'):\n",
    "    for filename in filenames:\n",
    "        print(os.path.join(dirname, filename))\n",
    "\n",
    "# You can write up to 20GB to the current directory (/kaggle/working/) that gets preserved as output when you create a version using \"Save & Run All\" \n",
    "# You can also write temporary files to /kaggle/temp/, but they won't be saved outside of the current session"
   ]
  },
  {
   "cell_type": "markdown",
   "id": "69d2e452",
   "metadata": {
    "papermill": {
     "duration": 0.003884,
     "end_time": "2022-08-23T02:34:52.516924",
     "exception": false,
     "start_time": "2022-08-23T02:34:52.513040",
     "status": "completed"
    },
    "tags": []
   },
   "source": [
    "We want to find what features are going to affect if netflix will list a title in their listings. The first thing I did was read in my data. We need to perform some data exploration and cleansing before diving into the analysis."
   ]
  },
  {
   "cell_type": "code",
   "execution_count": 2,
   "id": "4e10c100",
   "metadata": {
    "execution": {
     "iopub.execute_input": "2022-08-23T02:34:52.526092Z",
     "iopub.status.busy": "2022-08-23T02:34:52.525793Z",
     "iopub.status.idle": "2022-08-23T02:34:52.654226Z",
     "shell.execute_reply": "2022-08-23T02:34:52.653100Z"
    },
    "papermill": {
     "duration": 0.136193,
     "end_time": "2022-08-23T02:34:52.657030",
     "exception": false,
     "start_time": "2022-08-23T02:34:52.520837",
     "status": "completed"
    },
    "tags": []
   },
   "outputs": [
    {
     "data": {
      "text/html": [
       "<div>\n",
       "<style scoped>\n",
       "    .dataframe tbody tr th:only-of-type {\n",
       "        vertical-align: middle;\n",
       "    }\n",
       "\n",
       "    .dataframe tbody tr th {\n",
       "        vertical-align: top;\n",
       "    }\n",
       "\n",
       "    .dataframe thead th {\n",
       "        text-align: right;\n",
       "    }\n",
       "</style>\n",
       "<table border=\"1\" class=\"dataframe\">\n",
       "  <thead>\n",
       "    <tr style=\"text-align: right;\">\n",
       "      <th></th>\n",
       "      <th>show_id</th>\n",
       "      <th>type</th>\n",
       "      <th>title</th>\n",
       "      <th>director</th>\n",
       "      <th>cast</th>\n",
       "      <th>country</th>\n",
       "      <th>date_added</th>\n",
       "      <th>release_year</th>\n",
       "      <th>rating</th>\n",
       "      <th>duration</th>\n",
       "      <th>listed_in</th>\n",
       "      <th>description</th>\n",
       "    </tr>\n",
       "  </thead>\n",
       "  <tbody>\n",
       "    <tr>\n",
       "      <th>0</th>\n",
       "      <td>s1</td>\n",
       "      <td>Movie</td>\n",
       "      <td>Dick Johnson Is Dead</td>\n",
       "      <td>Kirsten Johnson</td>\n",
       "      <td>NaN</td>\n",
       "      <td>United States</td>\n",
       "      <td>September 25, 2021</td>\n",
       "      <td>2020</td>\n",
       "      <td>PG-13</td>\n",
       "      <td>90 min</td>\n",
       "      <td>Documentaries</td>\n",
       "      <td>As her father nears the end of his life, filmm...</td>\n",
       "    </tr>\n",
       "    <tr>\n",
       "      <th>1</th>\n",
       "      <td>s2</td>\n",
       "      <td>TV Show</td>\n",
       "      <td>Blood &amp; Water</td>\n",
       "      <td>NaN</td>\n",
       "      <td>Ama Qamata, Khosi Ngema, Gail Mabalane, Thaban...</td>\n",
       "      <td>South Africa</td>\n",
       "      <td>September 24, 2021</td>\n",
       "      <td>2021</td>\n",
       "      <td>TV-MA</td>\n",
       "      <td>2 Seasons</td>\n",
       "      <td>International TV Shows, TV Dramas, TV Mysteries</td>\n",
       "      <td>After crossing paths at a party, a Cape Town t...</td>\n",
       "    </tr>\n",
       "    <tr>\n",
       "      <th>2</th>\n",
       "      <td>s3</td>\n",
       "      <td>TV Show</td>\n",
       "      <td>Ganglands</td>\n",
       "      <td>Julien Leclercq</td>\n",
       "      <td>Sami Bouajila, Tracy Gotoas, Samuel Jouy, Nabi...</td>\n",
       "      <td>NaN</td>\n",
       "      <td>September 24, 2021</td>\n",
       "      <td>2021</td>\n",
       "      <td>TV-MA</td>\n",
       "      <td>1 Season</td>\n",
       "      <td>Crime TV Shows, International TV Shows, TV Act...</td>\n",
       "      <td>To protect his family from a powerful drug lor...</td>\n",
       "    </tr>\n",
       "    <tr>\n",
       "      <th>3</th>\n",
       "      <td>s4</td>\n",
       "      <td>TV Show</td>\n",
       "      <td>Jailbirds New Orleans</td>\n",
       "      <td>NaN</td>\n",
       "      <td>NaN</td>\n",
       "      <td>NaN</td>\n",
       "      <td>September 24, 2021</td>\n",
       "      <td>2021</td>\n",
       "      <td>TV-MA</td>\n",
       "      <td>1 Season</td>\n",
       "      <td>Docuseries, Reality TV</td>\n",
       "      <td>Feuds, flirtations and toilet talk go down amo...</td>\n",
       "    </tr>\n",
       "    <tr>\n",
       "      <th>4</th>\n",
       "      <td>s5</td>\n",
       "      <td>TV Show</td>\n",
       "      <td>Kota Factory</td>\n",
       "      <td>NaN</td>\n",
       "      <td>Mayur More, Jitendra Kumar, Ranjan Raj, Alam K...</td>\n",
       "      <td>India</td>\n",
       "      <td>September 24, 2021</td>\n",
       "      <td>2021</td>\n",
       "      <td>TV-MA</td>\n",
       "      <td>2 Seasons</td>\n",
       "      <td>International TV Shows, Romantic TV Shows, TV ...</td>\n",
       "      <td>In a city of coaching centers known to train I...</td>\n",
       "    </tr>\n",
       "  </tbody>\n",
       "</table>\n",
       "</div>"
      ],
      "text/plain": [
       "  show_id     type                  title         director  \\\n",
       "0      s1    Movie   Dick Johnson Is Dead  Kirsten Johnson   \n",
       "1      s2  TV Show          Blood & Water              NaN   \n",
       "2      s3  TV Show              Ganglands  Julien Leclercq   \n",
       "3      s4  TV Show  Jailbirds New Orleans              NaN   \n",
       "4      s5  TV Show           Kota Factory              NaN   \n",
       "\n",
       "                                                cast        country  \\\n",
       "0                                                NaN  United States   \n",
       "1  Ama Qamata, Khosi Ngema, Gail Mabalane, Thaban...   South Africa   \n",
       "2  Sami Bouajila, Tracy Gotoas, Samuel Jouy, Nabi...            NaN   \n",
       "3                                                NaN            NaN   \n",
       "4  Mayur More, Jitendra Kumar, Ranjan Raj, Alam K...          India   \n",
       "\n",
       "           date_added  release_year rating   duration  \\\n",
       "0  September 25, 2021          2020  PG-13     90 min   \n",
       "1  September 24, 2021          2021  TV-MA  2 Seasons   \n",
       "2  September 24, 2021          2021  TV-MA   1 Season   \n",
       "3  September 24, 2021          2021  TV-MA   1 Season   \n",
       "4  September 24, 2021          2021  TV-MA  2 Seasons   \n",
       "\n",
       "                                           listed_in  \\\n",
       "0                                      Documentaries   \n",
       "1    International TV Shows, TV Dramas, TV Mysteries   \n",
       "2  Crime TV Shows, International TV Shows, TV Act...   \n",
       "3                             Docuseries, Reality TV   \n",
       "4  International TV Shows, Romantic TV Shows, TV ...   \n",
       "\n",
       "                                         description  \n",
       "0  As her father nears the end of his life, filmm...  \n",
       "1  After crossing paths at a party, a Cape Town t...  \n",
       "2  To protect his family from a powerful drug lor...  \n",
       "3  Feuds, flirtations and toilet talk go down amo...  \n",
       "4  In a city of coaching centers known to train I...  "
      ]
     },
     "execution_count": 2,
     "metadata": {},
     "output_type": "execute_result"
    }
   ],
   "source": [
    "netflix_listings = pd.read_csv('/kaggle/input/netflix-shows/netflix_titles.csv')\n",
    "netflix_listings.head()"
   ]
  },
  {
   "cell_type": "markdown",
   "id": "1fe60538",
   "metadata": {
    "papermill": {
     "duration": 0.004152,
     "end_time": "2022-08-23T02:34:52.665725",
     "exception": false,
     "start_time": "2022-08-23T02:34:52.661573",
     "status": "completed"
    },
    "tags": []
   },
   "source": [
    "This dataset needs a lot of cleansing first to be able to visualize and explore the data. Moreover, each column has a lot of different work needed to clean up the data. Thus, I decided to look at individual columns at a time to see what we can observe, The first thing I wanted to compare is the ratio of movies to television shows. Here I created a bar chart that uses Seaborn to plot a bar chart. "
   ]
  },
  {
   "cell_type": "code",
   "execution_count": 3,
   "id": "eb6d4820",
   "metadata": {
    "execution": {
     "iopub.execute_input": "2022-08-23T02:34:52.675714Z",
     "iopub.status.busy": "2022-08-23T02:34:52.675283Z",
     "iopub.status.idle": "2022-08-23T02:34:52.826486Z",
     "shell.execute_reply": "2022-08-23T02:34:52.825548Z"
    },
    "papermill": {
     "duration": 0.159344,
     "end_time": "2022-08-23T02:34:52.829310",
     "exception": false,
     "start_time": "2022-08-23T02:34:52.669966",
     "status": "completed"
    },
    "tags": []
   },
   "outputs": [
    {
     "name": "stderr",
     "output_type": "stream",
     "text": [
      "/opt/conda/lib/python3.7/site-packages/seaborn/_decorators.py:43: FutureWarning: Pass the following variables as keyword args: x, y. From version 0.12, the only valid positional argument will be `data`, and passing other arguments without an explicit keyword will result in an error or misinterpretation.\n",
      "  FutureWarning\n"
     ]
    },
    {
     "data": {
      "text/plain": [
       "Text(0.5, 1.0, 'Type')"
      ]
     },
     "execution_count": 3,
     "metadata": {},
     "output_type": "execute_result"
    },
    {
     "data": {
      "image/png": "[encoded data removed]",
      "text/plain": [
       "<Figure size 432x288 with 1 Axes>"
      ]
     },
     "metadata": {
      "needs_background": "light"
     },
     "output_type": "display_data"
    }
   ],
   "source": [
    "sns.barplot(netflix_listings[\"type\"].value_counts().index,netflix_listings[\"type\"].value_counts()).set_title(\"Type\")"
   ]
  },
  {
   "cell_type": "code",
   "execution_count": 4,
   "id": "5575c83a",
   "metadata": {
    "execution": {
     "iopub.execute_input": "2022-08-23T02:34:52.843111Z",
     "iopub.status.busy": "2022-08-23T02:34:52.842801Z",
     "iopub.status.idle": "2022-08-23T02:34:52.851784Z",
     "shell.execute_reply": "2022-08-23T02:34:52.851150Z"
    },
    "papermill": {
     "duration": 0.017716,
     "end_time": "2022-08-23T02:34:52.853482",
     "exception": false,
     "start_time": "2022-08-23T02:34:52.835766",
     "status": "completed"
    },
    "tags": []
   },
   "outputs": [],
   "source": [
    "movies = netflix_listings[netflix_listings[\"type\"] == \"Movie\"]\n",
    "shows = netflix_listings[netflix_listings[\"type\"] == \"TV Show\"]"
   ]
  },
  {
   "cell_type": "code",
   "execution_count": 5,
   "id": "9f22dd4b",
   "metadata": {
    "execution": {
     "iopub.execute_input": "2022-08-23T02:34:52.864079Z",
     "iopub.status.busy": "2022-08-23T02:34:52.863662Z",
     "iopub.status.idle": "2022-08-23T02:34:52.869327Z",
     "shell.execute_reply": "2022-08-23T02:34:52.868432Z"
    },
    "papermill": {
     "duration": 0.012808,
     "end_time": "2022-08-23T02:34:52.870980",
     "exception": false,
     "start_time": "2022-08-23T02:34:52.858172",
     "status": "completed"
    },
    "tags": []
   },
   "outputs": [
    {
     "name": "stdout",
     "output_type": "stream",
     "text": [
      "['TV-MA', 'TV-14', 'R', 'TV-PG', 'PG-13', 'PG', 'TV-Y7', 'TV-Y', 'TV-G', 'NR', 'G', 'TV-Y7-FV', 'NC-17', 'UR', '74 min', '84 min', '66 min']\n",
      "['TV-MA', 'TV-14', 'TV-PG', 'TV-Y7', 'TV-Y', 'TV-G', 'NR', 'R', 'TV-Y7-FV']\n"
     ]
    }
   ],
   "source": [
    "print(list(movies['rating'].value_counts().index))\n",
    "print(list(shows['rating'].value_counts().index))"
   ]
  },
  {
   "cell_type": "markdown",
   "id": "23501711",
   "metadata": {
    "papermill": {
     "duration": 0.004131,
     "end_time": "2022-08-23T02:34:52.879614",
     "exception": false,
     "start_time": "2022-08-23T02:34:52.875483",
     "status": "completed"
    },
    "tags": []
   },
   "source": [
    "Now we can see there is some entires that aren't correctly inputted in our movies category. There should not be minutes in the rating column. Now we try to find and get rid of those unreliable data entries."
   ]
  },
  {
   "cell_type": "code",
   "execution_count": 6,
   "id": "8b761d40",
   "metadata": {
    "execution": {
     "iopub.execute_input": "2022-08-23T02:34:52.889594Z",
     "iopub.status.busy": "2022-08-23T02:34:52.889223Z",
     "iopub.status.idle": "2022-08-23T02:34:52.899201Z",
     "shell.execute_reply": "2022-08-23T02:34:52.898297Z"
    },
    "papermill": {
     "duration": 0.017156,
     "end_time": "2022-08-23T02:34:52.901153",
     "exception": false,
     "start_time": "2022-08-23T02:34:52.883997",
     "status": "completed"
    },
    "tags": []
   },
   "outputs": [
    {
     "data": {
      "text/plain": [
       "['TV-MA',\n",
       " 'TV-14',\n",
       " 'R',\n",
       " 'TV-PG',\n",
       " 'PG-13',\n",
       " 'PG',\n",
       " 'TV-Y7',\n",
       " 'TV-Y',\n",
       " 'TV-G',\n",
       " 'NR',\n",
       " 'G',\n",
       " 'TV-Y7-FV',\n",
       " 'NC-17',\n",
       " 'UR']"
      ]
     },
     "execution_count": 6,
     "metadata": {},
     "output_type": "execute_result"
    }
   ],
   "source": [
    "movies = movies[(movies[\"rating\"] != \"74 min\") & (movies[\"rating\"] != \"84 min\") & (movies[\"rating\"] != \"66 min\")]\n",
    "list(movies['rating'].value_counts().index)"
   ]
  },
  {
   "cell_type": "markdown",
   "id": "179f8c2e",
   "metadata": {
    "papermill": {
     "duration": 0.004814,
     "end_time": "2022-08-23T02:34:52.910860",
     "exception": false,
     "start_time": "2022-08-23T02:34:52.906046",
     "status": "completed"
    },
    "tags": []
   },
   "source": [
    "Now we want to take a look of the distribution of the movies and shows by their rating."
   ]
  },
  {
   "cell_type": "code",
   "execution_count": 7,
   "id": "73b5f39e",
   "metadata": {
    "execution": {
     "iopub.execute_input": "2022-08-23T02:34:52.921548Z",
     "iopub.status.busy": "2022-08-23T02:34:52.921228Z",
     "iopub.status.idle": "2022-08-23T02:34:53.124642Z",
     "shell.execute_reply": "2022-08-23T02:34:53.124023Z"
    },
    "papermill": {
     "duration": 0.210882,
     "end_time": "2022-08-23T02:34:53.126494",
     "exception": false,
     "start_time": "2022-08-23T02:34:52.915612",
     "status": "completed"
    },
    "tags": []
   },
   "outputs": [
    {
     "name": "stderr",
     "output_type": "stream",
     "text": [
      "/opt/conda/lib/python3.7/site-packages/seaborn/_decorators.py:43: FutureWarning: Pass the following variables as keyword args: x, y. From version 0.12, the only valid positional argument will be `data`, and passing other arguments without an explicit keyword will result in an error or misinterpretation.\n",
      "  FutureWarning\n"
     ]
    },
    {
     "data": {
      "text/plain": [
       "Text(0.5, 1.0, 'rating')"
      ]
     },
     "execution_count": 7,
     "metadata": {},
     "output_type": "execute_result"
    },
    {
     "data": {
      "image/png": "[encoded data removed]",
      "text/plain": [
       "<Figure size 432x288 with 1 Axes>"
      ]
     },
     "metadata": {
      "needs_background": "light"
     },
     "output_type": "display_data"
    }
   ],
   "source": [
    "sns.barplot(movies[\"rating\"].value_counts().index,movies[\"rating\"].value_counts()).set_title(\"rating\")"
   ]
  },
  {
   "cell_type": "markdown",
   "id": "754abda0",
   "metadata": {
    "papermill": {
     "duration": 0.004721,
     "end_time": "2022-08-23T02:34:53.136453",
     "exception": false,
     "start_time": "2022-08-23T02:34:53.131732",
     "status": "completed"
    },
    "tags": []
   },
   "source": [
    "We can see that most are TV-MA or TV-14. Let's see if there is the same trend with shows."
   ]
  },
  {
   "cell_type": "code",
   "execution_count": 8,
   "id": "13087253",
   "metadata": {
    "execution": {
     "iopub.execute_input": "2022-08-23T02:34:53.148072Z",
     "iopub.status.busy": "2022-08-23T02:34:53.147541Z",
     "iopub.status.idle": "2022-08-23T02:34:53.292229Z",
     "shell.execute_reply": "2022-08-23T02:34:53.291509Z"
    },
    "papermill": {
     "duration": 0.152593,
     "end_time": "2022-08-23T02:34:53.294002",
     "exception": false,
     "start_time": "2022-08-23T02:34:53.141409",
     "status": "completed"
    },
    "tags": []
   },
   "outputs": [
    {
     "name": "stderr",
     "output_type": "stream",
     "text": [
      "/opt/conda/lib/python3.7/site-packages/seaborn/_decorators.py:43: FutureWarning: Pass the following variables as keyword args: x, y. From version 0.12, the only valid positional argument will be `data`, and passing other arguments without an explicit keyword will result in an error or misinterpretation.\n",
      "  FutureWarning\n"
     ]
    },
    {
     "data": {
      "text/plain": [
       "Text(0.5, 1.0, 'rating')"
      ]
     },
     "execution_count": 8,
     "metadata": {},
     "output_type": "execute_result"
    },
    {
     "data": {
      "image/png": "[encoded data removed]",
      "text/plain": [
       "<Figure size 432x288 with 1 Axes>"
      ]
     },
     "metadata": {
      "needs_background": "light"
     },
     "output_type": "display_data"
    }
   ],
   "source": [
    "sns.barplot(shows[\"rating\"].value_counts().index, shows[\"rating\"].value_counts()).set_title(\"rating\")"
   ]
  },
  {
   "cell_type": "markdown",
   "id": "7958ac64",
   "metadata": {
    "papermill": {
     "duration": 0.0068,
     "end_time": "2022-08-23T02:34:53.307951",
     "exception": false,
     "start_time": "2022-08-23T02:34:53.301151",
     "status": "completed"
    },
    "tags": []
   },
   "source": [
    "We see that the top two categories for both are TV-MA and TV-14. Now we are gonna test if this is significant difference for TV-MA titles."
   ]
  },
  {
   "cell_type": "code",
   "execution_count": 9,
   "id": "963a9c13",
   "metadata": {
    "execution": {
     "iopub.execute_input": "2022-08-23T02:34:53.319815Z",
     "iopub.status.busy": "2022-08-23T02:34:53.319322Z",
     "iopub.status.idle": "2022-08-23T02:34:53.510003Z",
     "shell.execute_reply": "2022-08-23T02:34:53.508914Z"
    },
    "papermill": {
     "duration": 0.199093,
     "end_time": "2022-08-23T02:34:53.512191",
     "exception": false,
     "start_time": "2022-08-23T02:34:53.313098",
     "status": "completed"
    },
    "tags": []
   },
   "outputs": [
    {
     "name": "stderr",
     "output_type": "stream",
     "text": [
      "/opt/conda/lib/python3.7/site-packages/seaborn/_decorators.py:43: FutureWarning: Pass the following variables as keyword args: x, y. From version 0.12, the only valid positional argument will be `data`, and passing other arguments without an explicit keyword will result in an error or misinterpretation.\n",
      "  FutureWarning\n"
     ]
    },
    {
     "data": {
      "text/plain": [
       "Text(0.5, 1.0, 'rating')"
      ]
     },
     "execution_count": 9,
     "metadata": {},
     "output_type": "execute_result"
    },
    {
     "data": {
      "image/png": "[encoded data removed]",
      "text/plain": [
       "<Figure size 432x288 with 1 Axes>"
      ]
     },
     "metadata": {
      "needs_background": "light"
     },
     "output_type": "display_data"
    }
   ],
   "source": [
    "#remove unreliable data from original data set\n",
    "netflix_listings = netflix_listings[(netflix_listings[\"rating\"] != \"74 min\") & (netflix_listings[\"rating\"] != \"84 min\") & (netflix_listings[\"rating\"] != \"66 min\")]\n",
    "\n",
    "sns.barplot(netflix_listings[\"rating\"].value_counts().index, netflix_listings[\"rating\"].value_counts(), errcolor = \"red\").set_title(\"rating\")"
   ]
  },
  {
   "cell_type": "markdown",
   "id": "545ca786",
   "metadata": {
    "papermill": {
     "duration": 0.005452,
     "end_time": "2022-08-23T02:34:53.523469",
     "exception": false,
     "start_time": "2022-08-23T02:34:53.518017",
     "status": "completed"
    },
    "tags": []
   },
   "source": [
    "Our null hypothesis will be that all the ratings are equally distributed in our listings. Our alternate hypothesis will be that the distribution of the ratings is not equal."
   ]
  },
  {
   "cell_type": "code",
   "execution_count": 10,
   "id": "e3c216e1",
   "metadata": {
    "execution": {
     "iopub.execute_input": "2022-08-23T02:34:53.537136Z",
     "iopub.status.busy": "2022-08-23T02:34:53.535936Z",
     "iopub.status.idle": "2022-08-23T02:34:53.545345Z",
     "shell.execute_reply": "2022-08-23T02:34:53.544520Z"
    },
    "papermill": {
     "duration": 0.017843,
     "end_time": "2022-08-23T02:34:53.547009",
     "exception": false,
     "start_time": "2022-08-23T02:34:53.529166",
     "status": "completed"
    },
    "tags": []
   },
   "outputs": [
    {
     "name": "stdout",
     "output_type": "stream",
     "text": [
      "3207 628.8571428571429\n"
     ]
    }
   ],
   "source": [
    "import scipy\n",
    "num_of_ratings = len(netflix_listings['rating'].value_counts().index)\n",
    "num_of_tvma = len(netflix_listings[netflix_listings[\"rating\"] == \"TV-MA\"])\n",
    "num_of_rows = len(netflix_listings)\n",
    "expected_stat = num_of_rows/num_of_ratings\n",
    "observed_stat = num_of_tvma\n",
    "\n",
    "print(observed_stat, expected_stat)"
   ]
  },
  {
   "cell_type": "code",
   "execution_count": 11,
   "id": "40fbcb23",
   "metadata": {
    "execution": {
     "iopub.execute_input": "2022-08-23T02:34:53.560031Z",
     "iopub.status.busy": "2022-08-23T02:34:53.559717Z",
     "iopub.status.idle": "2022-08-23T02:34:53.581306Z",
     "shell.execute_reply": "2022-08-23T02:34:53.580059Z"
    },
    "papermill": {
     "duration": 0.03032,
     "end_time": "2022-08-23T02:34:53.583117",
     "exception": false,
     "start_time": "2022-08-23T02:34:53.552797",
     "status": "completed"
    },
    "tags": []
   },
   "outputs": [
    {
     "data": {
      "text/plain": [
       "Power_divergenceResult(statistic=18115.680909090916, pvalue=0.0)"
      ]
     },
     "execution_count": 11,
     "metadata": {},
     "output_type": "execute_result"
    }
   ],
   "source": [
    "observed_stats = []\n",
    "num_of_rows = len(netflix_listings)\n",
    "for i in (netflix_listings['rating'].value_counts().index):\n",
    "    num_of_rating = len(netflix_listings[netflix_listings[\"rating\"] == i])\n",
    "    observed_stats.append(num_of_rating)\n",
    "scipy.stats.chisquare(observed_stats)"
   ]
  },
  {
   "cell_type": "markdown",
   "id": "95162ecf",
   "metadata": {
    "papermill": {
     "duration": 0.005488,
     "end_time": "2022-08-23T02:34:53.594399",
     "exception": false,
     "start_time": "2022-08-23T02:34:53.588911",
     "status": "completed"
    },
    "tags": []
   },
   "source": [
    "Here we see a p-value of 0 which is much less than 0.5 so our observation is extremely significant and we can assume our alternate hypothesis to be true. We can assume that rating has some affect on if a title will be listed in Netflix.\n",
    "\n",
    "The last thing I wanted to test while looking at ratings is what "
   ]
  },
  {
   "cell_type": "code",
   "execution_count": null,
   "id": "07d54807",
   "metadata": {
    "papermill": {
     "duration": 0.005477,
     "end_time": "2022-08-23T02:34:53.605447",
     "exception": false,
     "start_time": "2022-08-23T02:34:53.599970",
     "status": "completed"
    },
    "tags": []
   },
   "outputs": [],
   "source": []
  },
  {
   "cell_type": "markdown",
   "id": "76c155f8",
   "metadata": {
    "papermill": {
     "duration": 0.005383,
     "end_time": "2022-08-23T02:34:53.616376",
     "exception": false,
     "start_time": "2022-08-23T02:34:53.610993",
     "status": "completed"
    },
    "tags": []
   },
   "source": [
    "\n",
    "The next thing I looked at (format date and test 5% pvalue and what years would be best that sort of thing)\n",
    "\n",
    "Then look at genres for listen in (break up the lists and look at top categories)"
   ]
  }
 ],
 "metadata": {
  "kernelspec": {
   "display_name": "Python 3",
   "language": "python",
   "name": "python3"
  },
  "language_info": {
   "codemirror_mode": {
    "name": "ipython",
    "version": 3
   },
   "file_extension": ".py",
   "mimetype": "text/x-python",
   "name": "python",
   "nbconvert_exporter": "python",
   "pygments_lexer": "ipython3",
   "version": "3.7.12"
  },
  "papermill": {
   "default_parameters": {},
   "duration": 11.183774,
   "end_time": "2022-08-23T02:34:54.241279",
   "environment_variables": {},
   "exception": null,
   "input_path": "__notebook__.ipynb",
   "output_path": "__notebook__.ipynb",
   "parameters": {},
   "start_time": "2022-08-23T02:34:43.057505",
   "version": "2.3.4"
  }
 },
 "nbformat": 4,
 "nbformat_minor": 5
}
